{
  "cells": [
    {
      "cell_type": "code",
      "source": [
        "pip install Sastrawi"
      ],
      "metadata": {
        "colab": {
          "base_uri": "https://localhost:8080/"
        },
        "id": "yiHFmNSAmfIL",
        "outputId": "19163a81-caa0-4708-fe4e-b779feb57842"
      },
      "execution_count": 1,
      "outputs": [
        {
          "output_type": "stream",
          "name": "stdout",
          "text": [
            "Looking in indexes: https://pypi.org/simple, https://us-python.pkg.dev/colab-wheels/public/simple/\n",
            "Requirement already satisfied: Sastrawi in /usr/local/lib/python3.7/dist-packages (1.0.1)\n"
          ]
        }
      ]
    },
    {
      "cell_type": "code",
      "source": [
        "import pandas as pd\n",
        "import numpy as np\n",
        "import re\n",
        "import nltk\n",
        "import string\n",
        "nltk.download('stopwords')\n",
        "nltk.download('punkt')\n",
        "nltk.download('wordnet')\n",
        "nltk.download('omw-1.4')\n",
        "from nltk.corpus import stopwords\n",
        "from nltk.tokenize import word_tokenize\n",
        "from nltk.stem import WordNetLemmatizer\n",
        "from Sastrawi.Stemmer.StemmerFactory import StemmerFactory\n",
        "from sklearn.feature_extraction.text import TfidfVectorizer\n",
        "from sklearn.metrics.pairwise import linear_kernel"
      ],
      "metadata": {
        "id": "_hQLM65ZyhbL",
        "colab": {
          "base_uri": "https://localhost:8080/"
        },
        "outputId": "b2a30a1d-0e70-4c87-acc4-292441a7dc04"
      },
      "execution_count": 2,
      "outputs": [
        {
          "output_type": "stream",
          "name": "stderr",
          "text": [
            "[nltk_data] Downloading package stopwords to /root/nltk_data...\n",
            "[nltk_data]   Package stopwords is already up-to-date!\n",
            "[nltk_data] Downloading package punkt to /root/nltk_data...\n",
            "[nltk_data]   Package punkt is already up-to-date!\n",
            "[nltk_data] Downloading package wordnet to /root/nltk_data...\n",
            "[nltk_data]   Package wordnet is already up-to-date!\n",
            "[nltk_data] Downloading package omw-1.4 to /root/nltk_data...\n",
            "[nltk_data]   Package omw-1.4 is already up-to-date!\n"
          ]
        }
      ]
    },
    {
      "cell_type": "code",
      "source": [
        "def preprocessing(sentence):\n",
        "    # Remove HTML tags\n",
        "    CLEANR = re.compile('<.*?>|&([a-z0-9]+|#[0-9]{1,6}|#x[0-9a-f]{1,6});')\n",
        "    sentence = re.sub(CLEANR, ' ', sentence)\n",
        "\n",
        "    # Remove number\n",
        "    sentence = re.sub(r\"\\d+\", \"\", sentence)\n",
        "\n",
        "    # Case folding\n",
        "    sentence = sentence.lower()\n",
        "\n",
        "    # Remove punctuation\n",
        "    for p in string.punctuation:\n",
        "        sentence = sentence.replace(p, \" \")\n",
        "\n",
        "    # Remove whitespace leading & trailing\n",
        "    sentence = sentence.strip()\n",
        "\n",
        "    # Remove multiple whitespace into single whitespace\n",
        "    sentence = re.sub('\\s+',' ', sentence)\n",
        "\n",
        "    # Tokenization\n",
        "    tokens = nltk.tokenize.word_tokenize(sentence)\n",
        "\n",
        "    # Remove stopwords in Bahasa Indonesia\n",
        "    bahasa_stopwords = set(stopwords.words('indonesian'))\n",
        "    tokens_without_bahasa_stopwords = [token for token in tokens if not token in bahasa_stopwords]\n",
        "\n",
        "    # Remove stopwords in English\n",
        "    english_stopwords = set(stopwords.words('english'))\n",
        "    tokens_without_bilingual_stopwords = [token for token in tokens_without_bahasa_stopwords if not token in english_stopwords]\n",
        "\n",
        "    # Lemmatization for English words\n",
        "    lemmatizer = WordNetLemmatizer()\n",
        "    english_base_word_tokens = [lemmatizer.lemmatize(token) for token in tokens_without_bilingual_stopwords]\n",
        "\n",
        "    # Stemming words in Bahasa Indonesia\n",
        "    factory = StemmerFactory()\n",
        "    stemmer = factory.create_stemmer()\n",
        "    bilingual_base_word_tokens = [stemmer.stem(token) for token in english_base_word_tokens]\n",
        "\n",
        "    # Combine the list of string into string separated by a whitespace\n",
        "    return \" \".join(bilingual_base_word_tokens)"
      ],
      "metadata": {
        "id": "sZW0ng8imULH"
      },
      "execution_count": 3,
      "outputs": []
    },
    {
      "cell_type": "code",
      "source": [
        "from google.colab import drive\n",
        "drive.mount('/gdrive')\n",
        "%cd /gdrive\n",
        "\n",
        "file_path = r'/gdrive/My Drive/discussion_dummy_data_v2.xlsx'\n",
        "df = pd.read_excel(file_path)\n",
        "dummy_list_of_dict = df.to_dict(orient='records')\n",
        "dummy_list_of_dict"
      ],
      "metadata": {
        "colab": {
          "base_uri": "https://localhost:8080/"
        },
        "id": "FPeDR-zrywCd",
        "outputId": "7057f60f-276e-435e-b0e3-e534761d0c4c"
      },
      "execution_count": 4,
      "outputs": [
        {
          "output_type": "stream",
          "name": "stdout",
          "text": [
            "Drive already mounted at /gdrive; to attempt to forcibly remount, call drive.mount(\"/gdrive\", force_remount=True).\n",
            "/gdrive\n"
          ]
        },
        {
          "output_type": "execute_result",
          "data": {
            "text/plain": [
              "[{'combined': 'error recyclerview data tidak tampil di fragment follower dan following terdapat error recyclerview no adapter attached saat menampilkan detail user di fragment follower dan following recyclerview no adapter attached fragment follower following',\n",
              "  'combined_processed': 'error recyclerview data tampil fragment follower following error recyclerview adapter attached tampil detail user fragment follower following recyclerview adapter attached fragment follower following',\n",
              "  'content': 'terdapat error recyclerview no adapter attached saat menampilkan detail user di fragment follower dan following',\n",
              "  'keywords': 'recyclerview,no-adapter-attached,fragment,follower,following',\n",
              "  'multinum_value': '[ 3.91798094e-03  2.42242347e-02 -5.84438967e-04 -2.99954467e-04\\n  7.61578616e-04 -4.98731574e-03  1.85093991e-02  8.21453892e-03\\n  1.20759513e-02 -5.19720721e-04  2.34728120e-03  2.28301007e-02\\n  3.58644351e-02  1.00188572e-02 -5.74384211e-03  1.34939281e-02\\n  9.22510808e-04 -1.64315943e-02 -1.28015848e-02  1.23871287e-04\\n -1.05501423e-02 -1.11123407e-02  5.55056008e-03 -1.73767330e-03\\n -3.43495491e-03  1.14655085e-02  1.26146721e-02  1.38221709e-02\\n -8.72440636e-03 -9.16565303e-03 -1.48032503e-02 -1.57910865e-02\\n -2.62579676e-02  1.11260992e-02 -1.17563596e-02 -2.93337018e-03\\n  4.19513416e-03 -6.79281307e-03 -1.76120438e-02 -6.46905461e-03\\n -5.88044478e-03 -9.32269823e-03 -3.94071359e-03 -4.31607198e-03\\n  2.31844950e-02 -2.14761682e-03  2.36107949e-02 -1.63013190e-02\\n -3.51412944e-03  6.52829942e-04  7.99025525e-04  6.78371987e-04\\n  1.13587007e-02 -1.49010615e-02  1.79344304e-02  7.90380128e-03\\n -1.08083049e-02  3.94554716e-03 -1.58047229e-02  6.78204745e-03\\n  1.12117035e-02  2.69222800e-02 -8.61009117e-03  5.01358823e-04\\n -1.95610113e-02  1.61832720e-02  1.34274587e-02 -1.03714913e-02\\n  1.47563703e-02 -4.95002326e-03 -8.92594270e-03 -4.74338094e-03\\n -5.96033921e-03  1.28937466e-02 -2.86972080e-03 -5.26211597e-03\\n -1.37240151e-02 -8.65360722e-03 -1.65533386e-02 -1.23415440e-02\\n -8.36802274e-03 -8.08470603e-03  4.29414911e-03 -4.92139673e-03\\n -1.58716936e-03  5.74751012e-03 -6.92267297e-03 -1.07492879e-03\\n  2.71749054e-03  9.29286052e-03 -8.61024164e-05 -1.16671128e-02\\n -2.28532380e-03  1.07148048e-02 -7.31844781e-03 -2.79030879e-03\\n -2.32006963e-02  1.57699548e-02 -4.93518310e-03  5.90609293e-03\\n  5.09803103e-05 -4.97299898e-03  4.10467526e-03 -1.72841027e-02\\n  1.07886381e-02 -6.55878615e-03  7.98165333e-03  4.30202810e-03\\n  1.26998918e-02 -9.28563159e-03 -8.15192237e-03 -9.88544780e-04\\n -3.35985399e-03  1.20486701e-02 -1.64091084e-02  1.00870791e-03\\n  3.63600813e-03  7.69345614e-04  3.58915352e-03 -3.50900297e-03\\n -9.88227985e-05 -5.64629911e-03 -1.32744145e-02 -5.36935963e-03\\n  5.19463420e-03 -6.45312946e-03  1.49265560e-03  4.75733588e-03]',\n",
              "  'onenum_value': 0.002589344047009945,\n",
              "  'title': 'error recyclerview data tidak tampil di fragment follower dan following'},\n",
              " {'combined': 'force close saat kirim data dengan parcelable aplikasi force close saat mengirimkan data ke activity lain dengan parcelable parcelable activity force close',\n",
              "  'combined_processed': 'force close kirim data parcelable aplikasi force close kirim data activity parcelable parcelable activity force close',\n",
              "  'content': 'aplikasi force close saat mengirimkan data ke activity lain dengan parcelable',\n",
              "  'keywords': 'parcelable,activity,force-close',\n",
              "  'multinum_value': '[ 0.00535751  0.04312899  0.02115102 -0.02146563  0.02005893 -0.00429202\\n  0.02495309  0.02175497  0.01980135 -0.00128896  0.00284198  0.05438763\\n  0.07325595  0.01164453  0.00588097  0.01675431  0.01450524 -0.03104796\\n -0.02276593 -0.00220894 -0.00501099 -0.01836658 -0.00514971  0.0022156\\n -0.01440539  0.02091888  0.02165914  0.02593656  0.00449265 -0.00428291\\n -0.01335261 -0.02579636 -0.06413353  0.00825763 -0.00666715 -0.00022171\\n  0.0014668  -0.00354473 -0.01934429 -0.02125887 -0.02067805 -0.01564191\\n -0.04978273 -0.00149888  0.057278   -0.00476015  0.02884693 -0.03042813\\n  0.00742152 -0.01656069  0.01926109  0.01519851  0.03508887 -0.01950815\\n  0.0323613   0.00656177 -0.0094292  -0.00119931 -0.0163288  -0.02795317\\n  0.0192133   0.04676342 -0.03404119 -0.01171888 -0.00553601  0.00780735\\n  0.03347661 -0.00168351  0.00146489  0.01658315  0.01262903 -0.00918283\\n -0.00955098 -0.00013936  0.00179149 -0.00140108 -0.01633936 -0.00375785\\n -0.02383852  0.00105555  0.01802247  0.00715948  0.00723974  0.01679224\\n  0.01914566  0.00940634 -0.00432478  0.01469072 -0.01425682  0.00635319\\n -0.00266369  0.00573071 -0.01354323 -0.00375113 -0.0068603   0.0022146\\n -0.00246597 -0.00755039  0.01480995  0.01205784  0.0095839   0.00116531\\n  0.01666687 -0.01050992 -0.01458015 -0.00800369  0.00235818  0.00711583\\n  0.00896162  0.00465606  0.0025091  -0.00140167 -0.01351907  0.00190204\\n  0.00203998  0.00588842  0.00610815 -0.01168847  0.00037078  0.02412983\\n  0.01628504 -0.00772243  0.01119731 -0.00507137  0.00618881 -0.01138911\\n  0.00628093  0.01247914]',\n",
              "  'onenum_value': -0.02968897670507431,\n",
              "  'title': 'force close saat kirim data dengan parcelable'},\n",
              " {'combined': 'error nullpointerexception pada fragment saat ganti jadi dark theme muncul error java lang nullpointerexception pada fragment setelah saya mengganti tema menjadi dark theme fragment theme null nullpointerexception dark theme error',\n",
              "  'combined_processed': 'error nullpointerexception fragment ganti dark theme muncul error java lang nullpointerexception fragment ganti tema dark theme fragment theme null nullpointerexception dark theme error',\n",
              "  'content': 'muncul error java lang nullpointerexception pada fragment setelah saya mengganti tema menjadi dark theme',\n",
              "  'keywords': 'fragment,theme,null,nullpointerexception,dark-theme,error',\n",
              "  'multinum_value': '[ 0.00386165  0.02013903  0.00138568 -0.00889802  0.01791931  0.01312142\\n  0.00443642 -0.00526483  0.00415101  0.00553893  0.00834928  0.03266448\\n  0.02404747  0.00661253  0.00049735 -0.00018592  0.00242977 -0.0310858\\n -0.01428759  0.00531536  0.0044815  -0.00158023 -0.00738311 -0.00138241\\n  0.00064903 -0.00974714  0.00991322  0.01515105  0.00371407 -0.00120455\\n -0.00911016 -0.01408732 -0.02786196  0.00119528 -0.00104572  0.00119582\\n  0.0109485  -0.00551193 -0.02291099 -0.01759305 -0.01979153  0.000273\\n -0.01781851 -0.00165772  0.02763619 -0.00573768  0.00584122 -0.00388757\\n  0.00224102 -0.01790362  0.00787387  0.01406122  0.01253693 -0.01439514\\n  0.0148017   0.01736425 -0.00036263 -0.00392466 -0.00074592 -0.00733184\\n -0.00797177  0.01831241 -0.01351108 -0.00879305 -0.01896043  0.00705486\\n  0.01391526 -0.00427951  0.01041741  0.00173127 -0.01954307  0.00143206\\n -0.0072005   0.00568687  0.00123275 -0.00327005 -0.01837453  0.00219872\\n -0.00946764 -0.0075672  -0.00015185 -0.00369367  0.01300701 -0.00225124\\n  0.00210665  0.0076569  -0.01205761 -0.00789494 -0.00398216  0.00531673\\n -0.00553685 -0.01401198  0.00077975 -0.00736811 -0.0049536  -0.00449069\\n -0.01840995 -0.00306555 -0.00244076 -0.00172902  0.00070626  0.01276028\\n  0.00922968 -0.00594994 -0.00131362  0.00719122  0.00081707 -0.00339447\\n  0.00988476 -0.00689139 -0.00605183 -0.0035304   0.00890956  0.00676101\\n -0.01569876  0.00714861 -0.00282019 -0.00545148 -0.00817772 -0.00308712\\n -0.00118906 -0.00562203  0.00344709 -0.00029349 -0.00484661  0.00425571\\n -0.00326855 -0.00119214]',\n",
              "  'onenum_value': 0.01518997643142939,\n",
              "  'title': 'error nullpointerexception pada fragment saat ganti jadi dark theme'},\n",
              " {'combined': 'dark theme tidak jalan sehingga submission ditolak submission ditolak dengan alasan yang sama yaitu dark theme tidak jalan padahal ketika saya coba dark theme berjalan dengan baik submission tolak dark theme',\n",
              "  'combined_processed': 'dark theme jalan submission tolak submission tolak alas dark theme jalan coba dark theme jalan submission tolak dark theme',\n",
              "  'content': 'submission ditolak dengan alasan yang sama yaitu dark theme tidak jalan padahal ketika saya coba dark theme berjalan dengan baik',\n",
              "  'keywords': 'submission,tolak,dark-theme',\n",
              "  'multinum_value': '[ 0.00948861  0.03262908  0.01838366 -0.02079435  0.01979431  0.00748359\\n  0.02210499  0.01359091  0.01296776 -0.00046029  0.00569709  0.0579191\\n  0.05669105  0.00681648  0.01159448  0.01255187  0.01403828 -0.0327258\\n -0.01983963 -0.00099236 -0.00207714 -0.01147254 -0.00669483 -0.00146645\\n -0.00536049  0.01084433  0.01398992  0.019897    0.0008875   0.00504298\\n -0.00995308 -0.0190033  -0.05408839  0.00532798 -0.00666813 -0.00344483\\n -0.00208689 -0.00354695 -0.02543431 -0.01435415 -0.02234648 -0.00953656\\n -0.03701813  0.00483015  0.04638756 -0.00470503  0.02366678 -0.02282306\\n  0.00324976 -0.01577921  0.01439091  0.0163676   0.02894491 -0.02334678\\n  0.02464125  0.00635943 -0.00425173 -0.00163976 -0.01221782 -0.0259364\\n  0.00814671  0.03523659 -0.02394459 -0.01078286 -0.00759441 -0.0232155\\n  0.00239931 -0.00384918  0.01381158  0.0015425   0.00809888 -0.01319073\\n  0.00092106  0.00149442  0.00934623  0.00086342  0.00499647 -0.00590083\\n -0.00340049 -0.02730443 -0.00586147  0.0019919   0.00220572  0.00059488\\n -0.00049931 -0.00424364  0.00554107  0.01333537  0.0011085   0.00412358\\n -0.00074633 -0.01398328 -0.00100991 -0.01192546 -0.01401614 -0.0075695\\n  0.00654657  0.00951996 -0.01848016 -0.00169119 -0.01526423  0.0021921\\n  0.00444412  0.01549278  0.00471981  0.00211658  0.00301749 -0.01270776\\n  0.00654284  0.00544693 -0.01986134 -0.01816695  0.01248225  0.01539092\\n -0.00283656  0.01894867 -0.0041967   0.00802189 -0.00207409  0.01667612\\n  0.00175011  0.00347693  0.01213144 -0.00664214 -0.00686074  0.00608055\\n  0.01755432  0.00457989]',\n",
              "  'onenum_value': 0.01680674403905869,\n",
              "  'title': 'dark theme tidak jalan sehingga submission ditolak'},\n",
              " {'combined': 'fragment tertutup dan kembali ke fragment awal saat orientasi berubah saya memiliki fragment yang akan memanggil fragment lain namun saat orientasi berubah fragment kedua akan tertutup dan fragment awal akan terpanggil ulang bagaimana cara agar fragment kedua tidak tertutup fragment orientasi rotasi rotate',\n",
              "  'combined_processed': 'fragment tutup fragment orientasi ubah milik fragment panggil fragment orientasi ubah fragment tutup fragment panggil ulang fragment tutup fragment orientasi rotasi rotate',\n",
              "  'content': 'saya memiliki fragment yang akan memanggil fragment lain namun saat orientasi berubah fragment kedua akan tertutup dan fragment awal akan terpanggil ulang bagaimana cara agar fragment kedua tidak tertutup',\n",
              "  'keywords': 'fragment,orientasi,rotasi,rotate',\n",
              "  'multinum_value': '[-7.3327450e-03  3.2417100e-02  1.4971626e-02 -2.5924223e-03\\n  1.8289952e-02  1.2997487e-02  3.8790889e-03  2.0544954e-02\\n  1.1189910e-02 -7.4564787e-03  4.2657624e-03  2.5439871e-02\\n  4.1805249e-02  1.4244753e-02  8.0276718e-03  1.4283009e-02\\n  5.3395359e-03 -2.3958517e-02 -7.8932699e-03  2.2280121e-03\\n  3.4484102e-03 -2.4531372e-03 -5.1582330e-03  6.2404649e-04\\n -5.7391007e-03  2.6753351e-02  5.3266976e-03  1.4202420e-02\\n  2.6827957e-03  1.1374408e-02 -8.3214547e-03 -2.4551217e-02\\n -3.9919138e-02 -4.2490913e-03 -8.2791578e-03 -2.5172117e-03\\n  5.0874478e-03 -1.6418858e-04 -2.0342467e-02  9.4508711e-04\\n -7.3022768e-03 -6.6477046e-03 -2.8244592e-02 -1.4893985e-03\\n  3.1992864e-02  7.4586687e-03  2.3355993e-02 -1.6785624e-02\\n  5.7675662e-03 -8.0427695e-03  1.3526433e-02  1.8671544e-02\\n  9.9821445e-03 -9.3403691e-03  2.3877781e-02  2.1166438e-03\\n  1.7132993e-03 -2.2812723e-03 -1.6748706e-02 -2.0993885e-02\\n  1.5054417e-02  3.1161072e-02 -1.1244138e-02 -3.8204942e-04\\n -1.4411629e-02 -1.3518849e-02 -5.8724075e-03  7.7163405e-03\\n  7.6553687e-03  1.5963428e-02 -2.0601291e-03  4.3162927e-03\\n  1.2479734e-02  1.0498165e-02  5.0572273e-03 -5.0785937e-03\\n -1.0514383e-02 -5.1478567e-03 -9.6477959e-03 -2.3673354e-02\\n  2.9925461e-04 -2.0225773e-02  5.4573459e-03 -5.1791631e-03\\n -2.8185496e-02 -8.0746952e-03 -4.2587239e-03 -1.5620953e-02\\n -1.8991474e-02 -1.0440083e-02  8.9469515e-03 -9.4596855e-03\\n  2.1963920e-03 -3.0338811e-02  6.3105454e-03  6.3758716e-03\\n  3.8726628e-04 -2.3446856e-04 -6.7444635e-03 -2.2724161e-02\\n  3.2403015e-03  2.2926787e-02  1.1877116e-02  4.8044953e-03\\n -9.2723016e-03  9.0793828e-03  1.0591729e-02  1.1001795e-02\\n -1.3796553e-02 -1.2202038e-02  8.0843838e-03 -7.1500661e-03\\n  4.8265243e-03 -8.6873034e-03  2.0947926e-02  9.3408413e-03\\n  3.0441290e-06  1.3994371e-03 -8.1089856e-03 -6.9973818e-03\\n  5.6363107e-04 -1.2266375e-02 -4.7239279e-03 -1.9127801e-03\\n  1.0438442e-02 -2.1058898e-03  4.1294978e-03 -3.9184694e-03]',\n",
              "  'onenum_value': 0.01286699064075947,\n",
              "  'title': 'fragment tertutup dan kembali ke fragment awal saat orientasi berubah'},\n",
              " {'combined': 'penggunaan api pada submission apakah api digunakan sebagai data recyclerview atau sebagai data fragment follower following submission api recyclerview fragment follower following',\n",
              "  'combined_processed': 'guna api submission api data recyclerview data fragment follower following submission api recyclerview fragment follower following',\n",
              "  'content': 'apakah api digunakan sebagai data recyclerview atau sebagai data fragment follower following',\n",
              "  'keywords': 'submission,api,recyclerview,fragment,follower,following',\n",
              "  'multinum_value': '[ 0.00534032  0.04344822  0.02168643 -0.01935772  0.02025764 -0.00356412\\n  0.02791975  0.02426039  0.02006481 -0.00256386  0.00412149  0.05347154\\n  0.07521524  0.01131588  0.00676875  0.01804236  0.01656861 -0.0313899\\n -0.02396642 -0.00308017 -0.00825365 -0.02033239 -0.00396219 -0.00058621\\n -0.0128306   0.02505462  0.02350784  0.02833032 -0.00215482 -0.00459636\\n -0.01671867 -0.0264483  -0.06473804  0.0087148  -0.00873381  0.00160775\\n -0.00244091 -0.00609102 -0.01812255 -0.01623857 -0.02007535 -0.01725878\\n -0.04312266  0.00110077  0.05757693 -0.00518109  0.03171996 -0.0313906\\n  0.00902995 -0.01499326  0.01965653  0.01697878  0.03264513 -0.02192962\\n  0.03167456  0.00488443 -0.00960215  0.00257212 -0.02157033 -0.02856211\\n  0.02271639  0.04690418 -0.03015312 -0.00919378 -0.00431489 -0.00867366\\n -0.00170831 -0.00691175  0.00615795 -0.00815032  0.00047564 -0.01698799\\n -0.00301256 -0.00940143 -0.0117379  -0.01110598 -0.00423562 -0.02501767\\n  0.00802447  0.01644995 -0.00625065  0.01659453 -0.010017   -0.01408502\\n -0.01389959 -0.01610693 -0.00789645 -0.00092113  0.00049131 -0.00204441\\n -0.00107961  0.00496987 -0.01090739  0.01035269 -0.00810626 -0.0133368\\n -0.00397705 -0.00377136  0.00308963  0.01050393 -0.01548664 -0.00142919\\n  0.0011548   0.00644811 -0.00155122 -0.02981367  0.01968892  0.00686393\\n -0.00042834  0.00792628  0.00622902  0.00451698 -0.00545054  0.01454014\\n -0.00604095  0.01071719  0.00218108 -0.00241023 -0.00327126 -0.00783076\\n  0.00025298  0.00921226  0.01035082 -0.00420633  0.01229765 -0.01023281\\n -0.02137834  0.0117152 ]',\n",
              "  'onenum_value': 0.01836609281599522,\n",
              "  'title': 'penggunaan api pada submission'},\n",
              " {'combined': 'aplikasi force close saat run nullpointerexception aplikasi force close saat run dengan error androidruntime fatal exception java lang nullpointerexception app crash force close nullpointerexception',\n",
              "  'combined_processed': 'aplikasi force close run nullpointerexception aplikasi force close run error androidruntime fatal exception java lang nullpointerexception app crash force close nullpointerexception',\n",
              "  'content': 'aplikasi force close saat run dengan error androidruntime fatal exception java lang nullpointerexception',\n",
              "  'keywords': 'app-crash,force-close,nullpointerexception',\n",
              "  'multinum_value': '[ 0.00683309  0.02697416  0.01387502 -0.0107169   0.01764105 -0.00347796\\n  0.01822805  0.0075165   0.01099076 -0.00148945 -0.00231469  0.03736441\\n  0.04954202  0.01442092 -0.00052065  0.01125775  0.00878398 -0.02103147\\n -0.01475099  0.00375354 -0.01062269 -0.00957061 -0.00321376  0.0080456\\n -0.00710007  0.01126434  0.01266318  0.01889083 -0.00079609  0.0030632\\n -0.01012442 -0.02033462 -0.04104092  0.01110364 -0.00091983 -0.00628015\\n  0.00555103 -0.00292602 -0.01804422 -0.01414361 -0.01376691 -0.00451977\\n -0.04456912 -0.0058148   0.04563134 -0.00072598  0.02130849 -0.02447437\\n -0.00065473 -0.00822815  0.00830676  0.00567833  0.02811872 -0.01607239\\n  0.02314709  0.00590537 -0.00622139 -0.00725064 -0.00493317 -0.02023817\\n  0.0115491   0.03292426 -0.02633684 -0.01137524 -0.00267074 -0.00375885\\n  0.02650402 -0.00404086 -0.01280457  0.00337239  0.00463627 -0.00974311\\n -0.00290781 -0.00506911  0.00250589  0.00251799 -0.02343634  0.00124777\\n -0.01627161  0.00602838  0.00460441  0.00459391  0.00204057  0.01292048\\n  0.0276989   0.00271323 -0.01289973  0.01306356  0.00431122  0.0071914\\n  0.00289994  0.00038244 -0.02252283 -0.00137629  0.00244663 -0.00858943\\n -0.0110562  -0.02599479 -0.00070493 -0.00045471  0.01680328  0.00775885\\n  0.01275865 -0.01204687 -0.00373409 -0.00968445 -0.00896248  0.00219349\\n  0.01066354  0.00465514 -0.00326086 -0.00869834 -0.01387807 -0.00682613\\n  0.01458752  0.0082443   0.0017441  -0.00751582  0.00825074  0.00890487\\n  0.01191923  0.00362305  0.01005458 -0.00101632  0.00116688 -0.01292476\\n  0.0125013   0.01018374]',\n",
              "  'onenum_value': -0.01308266539126635,\n",
              "  'title': 'aplikasi force close saat run nullpointerexception'},\n",
              " {'combined': 'submission ditolak karena implementasi parcelable tidak tepat submission saya ditolak karena pengiriman data antar activity belum memanfaatkan parcelable dengan tepat bagaimana cara mengimplementasikan parcelable dengan tepat parcelable submission review tolak',\n",
              "  'combined_processed': 'submission tolak implementasi parcelable submission tolak kirim data activity manfaat parcelable implementasi parcelable parcelable submission review tolak',\n",
              "  'content': 'submission saya ditolak karena pengiriman data antar activity belum memanfaatkan parcelable dengan tepat bagaimana cara mengimplementasikan parcelable dengan tepat',\n",
              "  'keywords': 'parcelable,submission,review,tolak',\n",
              "  'multinum_value': '[ 0.00602171  0.03831322  0.02123707 -0.0209559   0.02274026  0.00148209\\n  0.02504097  0.01996651  0.01467069 -0.00137578  0.00316401  0.05243602\\n  0.06949386  0.01017122  0.00753207  0.01596666  0.01426767 -0.03058645\\n -0.0212296   0.0002875  -0.00515321 -0.01732052 -0.0069624   0.00013823\\n -0.0110662   0.02066668  0.01691915  0.02434684 -0.00123001 -0.00032584\\n -0.01259322 -0.02226241 -0.06207455  0.00880065 -0.00739958 -0.00067081\\n  0.00267354 -0.00154265 -0.02008801 -0.01746898 -0.01807762 -0.0133212\\n -0.04623368  0.00021334  0.05685183 -0.00374767  0.02715346 -0.02685097\\n  0.00713949 -0.01375079  0.01705115  0.01618199  0.03505041 -0.01954189\\n  0.0252819   0.0057628  -0.00921321 -0.00150839 -0.01489156 -0.02772591\\n  0.0175908   0.04401351 -0.02673768 -0.01082129 -0.005796   -0.01449905\\n  0.00418794 -0.0059492   0.02892729 -0.00626799 -0.01477857 -0.00469053\\n  0.00411526  0.00155893  0.00167484 -0.00132246  0.00719022 -0.011159\\n -0.00709324  0.01054629 -0.01216566  0.01062899 -0.00433726 -0.00816911\\n  0.00283738 -0.01089664  0.00233606  0.00018584 -0.0085117  -0.01338447\\n -0.01929705 -0.00565689 -0.00900991 -0.00759317 -0.02304228 -0.03099847\\n -0.00361264 -0.01131136  0.00735605  0.01581533 -0.00423991  0.00198105\\n  0.0078367   0.0217081   0.00479123 -0.00540375  0.01087471  0.00047891\\n -0.00516593  0.01307681 -0.01539067 -0.00138023 -0.01663252  0.00560923\\n -0.02014266  0.01378473  0.00166605 -0.00265618 -0.00424349  0.00571048\\n -0.00578698  0.00300534  0.00389545 -0.00502137 -0.00044507 -0.00116962\\n -0.00442779  0.00281353]',\n",
              "  'onenum_value': 0.001248382497578859,\n",
              "  'title': 'submission ditolak karena implementasi parcelable tidak tepat'},\n",
              " {'combined': 'tidak bisa mengirim data ke postman saya coba mengirim data ke api platform postman tapi tidak bisa error api postman',\n",
              "  'combined_processed': 'kirim data postman coba kirim data api platform postman error api postman',\n",
              "  'content': 'saya coba mengirim data ke api platform postman tapi tidak bisa',\n",
              "  'keywords': 'error,api,postman',\n",
              "  'multinum_value': '[ 5.92985377e-03  4.42797728e-02  2.69227922e-02 -2.35318989e-02\\n  2.40737405e-02 -5.17546991e-03  2.80926991e-02  2.91005261e-02\\n  2.16975324e-02 -3.18662263e-03  4.64227051e-03  5.41046076e-02\\n  8.00169855e-02  1.01731978e-02  1.15312114e-02  1.39653850e-02\\n  1.72580238e-02 -3.02169286e-02 -2.50228737e-02 -3.38753103e-03\\n -7.70645728e-03 -2.24171001e-02 -6.82668947e-03 -9.65589657e-04\\n -1.68391075e-02  3.20968665e-02  3.09635121e-02  3.14718112e-02\\n -1.66185771e-03 -6.03134139e-03 -1.47181097e-02 -2.75323652e-02\\n -7.34360591e-02  5.78304846e-03 -6.98704133e-03  4.04375046e-03\\n -7.94967345e-05 -6.38891105e-03 -1.77238882e-02 -1.93657298e-02\\n -2.30342112e-02 -2.22664997e-02 -4.71647903e-02  5.27914939e-03\\n  6.14137389e-02 -5.49108488e-03  3.43700461e-02 -3.27170007e-02\\n  1.67266671e-02 -1.84200071e-02  2.36317907e-02  2.40184367e-02\\n  3.41527089e-02 -1.89468712e-02  2.95011289e-02  5.23387641e-03\\n -1.11058177e-02  5.57207223e-03 -2.10209098e-02 -3.31806690e-02\\n  2.82129664e-02  5.23144007e-02 -3.62002924e-02 -1.28102601e-02\\n -2.22341549e-02  6.97288290e-03 -2.78227613e-03 -3.61663313e-03\\n  1.88678931e-02 -5.95100271e-03  9.36031062e-03 -3.78139922e-03\\n -1.52206607e-02 -1.31608378e-02 -1.56545248e-02 -1.39213838e-02\\n -4.69591795e-03 -1.53737515e-02 -2.04494456e-03  1.71641968e-02\\n  2.26685386e-02 -3.40677728e-03 -1.08789094e-02  5.84336603e-03\\n -1.39106847e-02  1.48296366e-02  1.16241546e-02  1.05696768e-02\\n -1.84201058e-02 -2.78350944e-03  2.26597954e-03 -5.77846030e-03\\n -7.82346725e-03 -7.40550924e-03  1.59829983e-03 -5.24701271e-03\\n  8.38883501e-03  8.20625387e-03  1.37009332e-02 -2.49910844e-03\\n  5.07092569e-03 -1.86510403e-02 -2.25466513e-03 -2.14810763e-02\\n  8.85622390e-03 -1.54124768e-02  2.21235566e-02  7.31405709e-03\\n  1.07603671e-03  5.98829612e-03  2.27947836e-03  8.48774984e-03\\n -1.28538460e-02  2.48162150e-02 -8.45538266e-03  1.30245145e-02\\n -4.13520355e-03 -9.46464017e-03 -2.11825361e-03  2.50826012e-02\\n  1.17301391e-02 -8.07465892e-03  1.09752389e-02  7.22881581e-04\\n  4.10512229e-03 -9.96746868e-03  1.10019436e-02  2.04829052e-02]',\n",
              "  'onenum_value': -0.002673872280865908,\n",
              "  'title': 'tidak bisa mengirim data ke postman'},\n",
              " {'combined': 'error recyclerview no adapter saat menggunakan retrofit data dari retrofit muncul di debugger tapi muncul error recyclerview no adapter attached skipping layout sepertinya data dari retrofit tidak masuk ke adapter error recyclerview retrofit',\n",
              "  'combined_processed': 'error recyclerview adapter retrofit data retrofit muncul debugger muncul error recyclerview adapter attached skipping layout data retrofit masuk adapter error recyclerview retrofit',\n",
              "  'content': 'data dari retrofit muncul di debugger tapi muncul error recyclerview no adapter attached skipping layout sepertinya data dari retrofit tidak masuk ke adapter',\n",
              "  'keywords': 'error,recyclerview,retrofit',\n",
              "  'multinum_value': '[ 5.99907292e-03  2.28729211e-02  2.55549001e-03 -2.13462277e-03\\n  1.57386232e-02  9.69663449e-03  2.45572254e-02  1.21640274e-02\\n  5.76403597e-03  8.82091653e-03  5.80270961e-03  3.88531499e-02\\n  4.09227312e-02  1.00002820e-02  8.21537711e-03  1.84703581e-02\\n  6.61790045e-03 -2.41947044e-02 -1.72776803e-02  6.99102966e-05\\n  2.12518405e-03 -1.41893355e-02 -2.29992089e-04 -3.15882987e-03\\n -5.33289555e-03 -9.27060973e-05  3.14518274e-03  1.22040687e-02\\n -8.44792183e-03 -2.01957952e-03 -1.46692637e-02 -8.98703281e-03\\n -3.87277640e-02  8.95751733e-03 -9.37306043e-03 -9.87811829e-04\\n -2.50303326e-03 -5.47852460e-03 -2.07915492e-02 -1.63305327e-02\\n -1.19438302e-02  2.04707123e-03 -2.02277955e-02 -7.25700334e-03\\n  2.87459660e-02 -5.36708906e-03  2.22601239e-02 -1.52294151e-02\\n -8.57910421e-03 -5.19639486e-03  6.25255099e-03  2.79262196e-03\\n  2.72305198e-02 -1.32771134e-02  1.79405585e-02  7.86944013e-03\\n -1.35870157e-02  1.46244862e-03 -7.55528407e-03 -9.58027411e-03\\n  1.71328487e-03  3.22251618e-02 -4.58786776e-03 -1.19306538e-02\\n -1.06595019e-02  1.74353905e-02  2.31705587e-02 -3.72788589e-03\\n  9.15387925e-03  2.38651759e-03 -1.16790244e-02 -5.12719527e-03\\n -4.34102537e-03  1.16664367e-02 -4.00602957e-03 -1.06566083e-02\\n -1.25352908e-02 -7.36337435e-03 -2.24033333e-02 -1.07401460e-02\\n -4.59621521e-03  9.87609499e-04  1.41739356e-03 -5.03209187e-03\\n -4.35016351e-03  7.61956302e-03 -1.88231599e-02  4.76765883e-04\\n  1.11532230e-02  7.38206413e-03 -1.42018311e-03 -1.78637300e-02\\n -1.14590023e-02  1.91477058e-03 -2.42562196e-03 -6.63888175e-03\\n -1.45297153e-02  6.04553847e-03 -6.56578271e-03  4.19144053e-03\\n  5.59803378e-03 -4.05580178e-03  1.60115876e-03 -1.37658250e-02\\n  2.96695449e-04 -1.16483485e-02  1.37381190e-02  2.81713763e-03\\n  1.47471270e-02 -8.45134351e-03 -3.52091179e-03 -1.18893683e-02\\n -3.77975823e-03  8.12443718e-03 -1.29438173e-02  1.12392392e-03\\n  4.88603953e-04  1.35465153e-03 -1.56693684e-03  9.63629573e-04\\n  4.55597555e-03 -3.48307122e-03 -1.06574604e-02 -2.32733716e-03\\n -4.88152076e-03 -1.83652062e-02  5.43727539e-03 -8.02514236e-03]',\n",
              "  'onenum_value': -0.008033495396375656,\n",
              "  'title': 'error recyclerview no adapter saat menggunakan retrofit'},\n",
              " {'combined': 'revisi submission dianggap plagiarisme saya melakukan submission ulang karena terdapat kesalahan di submission sebelumnya namun hasil revisi tersebut ditolak karena plagiarisme saya bahkan membuat project baru untuk mengatasi ini namun selalu ditolak hingga sekarang submission review tolak plagiarisme plagiarism',\n",
              "  'combined_processed': 'revisi submission anggap plagiarisme submission ulang salah submission hasil revisi tolak plagiarisme project atas tolak submission review tolak plagiarisme plagiarism',\n",
              "  'content': 'saya melakukan submission ulang karena terdapat kesalahan di submission sebelumnya namun hasil revisi tersebut ditolak karena plagiarisme saya bahkan membuat project baru untuk mengatasi ini namun selalu ditolak hingga sekarang',\n",
              "  'keywords': 'submission,review,tolak,plagiarisme,plagiarism',\n",
              "  'multinum_value': '[ 0.00749737  0.02588991  0.02141905 -0.01561741  0.01846219  0.00575173\\n  0.02123061  0.01786142  0.00830487 -0.00488887  0.00507983  0.04565685\\n  0.05102718  0.00638052  0.00862474  0.01945518  0.01489636 -0.02706985\\n -0.01620976  0.00580132 -0.00273445 -0.0132513  -0.00737297 -0.0043925\\n -0.00287786  0.0137036   0.00854648  0.01838589  0.00069865  0.00996419\\n -0.00507351 -0.02064964 -0.05178183  0.00806937 -0.0087316  -0.00566653\\n -0.00146723  0.00578955 -0.01811443 -0.01164369 -0.01377821 -0.00681886\\n -0.03478779  0.00516403  0.04659933  0.00215754  0.02539058 -0.01867524\\n  0.00253011 -0.00964938  0.01461271  0.01819702  0.02388977 -0.02303673\\n  0.0180505   0.00044929 -0.00381844  0.00172374 -0.01932854 -0.02846896\\n  0.01268931  0.03259583 -0.01363351 -0.00490126 -0.00891057 -0.00911892\\n  0.02037656  0.00433825  0.01814569 -0.00661858 -0.02520772  0.00827148\\n -0.00225286 -0.00437916 -0.00454545 -0.01304471  0.01915636  0.00962938\\n -0.00178498  0.00646401 -0.01291619  0.00780304 -0.00564976  0.00621501\\n  0.00042159  0.01166509  0.00105341  0.00818577  0.00477058 -0.01100013\\n -0.03079832 -0.02079753 -0.00172308 -0.0143539  -0.00105573 -0.01319927\\n  0.01994896 -0.00694957 -0.00537204  0.01259077 -0.00168859  0.01597515\\n  0.0049017   0.00943082  0.00607224 -0.01280609  0.00369267 -0.01986327\\n -0.00134349  0.00417728  0.00278294 -0.00568041 -0.01276537 -0.01894694\\n -0.02122232  0.01273236 -0.01189513 -0.0168188  -0.00414257  0.02790792\\n -0.00912828  0.00458858 -0.01099789 -0.00208236 -0.00017397 -0.00387987\\n  0.01536132  0.00137953]',\n",
              "  'onenum_value': 0.0152873583137989,\n",
              "  'title': 'revisi submission dianggap plagiarisme'},\n",
              " {'combined': 'aplikasi force close ketika membuka detail fragment aplikasi saya force close saat membuka fragment detail berikut errornya java lang illegalargumentexception error force close fragment',\n",
              "  'combined_processed': 'aplikasi force close buka detail fragment aplikasi force close buka fragment detail errornya java lang illegalargumentexception error force close fragment',\n",
              "  'content': 'aplikasi saya force close saat membuka fragment detail berikut errornya java lang illegalargumentexception',\n",
              "  'keywords': 'error,force-close,fragment',\n",
              "  'multinum_value': '[ 3.15350341e-03  3.58285569e-02  1.62542798e-02 -1.41943600e-02\\n  2.11519189e-02 -3.96193180e-04  1.84356403e-02  1.76509749e-02\\n  1.43377120e-02  3.83904844e-04  6.86518979e-05  3.98631915e-02\\n  5.74708655e-02  1.42905610e-02  3.88816581e-03  1.10974452e-02\\n  1.01534370e-02 -2.56488677e-02 -1.31143602e-02  2.33987928e-03\\n -8.06713291e-03 -1.28277196e-02 -1.98814925e-03  1.04279071e-03\\n -9.94578376e-03  1.70169678e-02  1.52264526e-02  2.26599388e-02\\n -1.80992926e-03  1.85564207e-03 -1.21389534e-02 -2.76758764e-02\\n -5.47318794e-02  8.23716074e-03 -5.53014176e-03 -6.08554052e-04\\n  2.36421893e-03 -2.37415521e-03 -1.70724243e-02 -1.51828099e-02\\n -1.21159526e-02 -1.45776877e-02 -4.15174402e-02 -5.89362159e-03\\n  4.92806248e-02 -2.79634865e-03  2.51729749e-02 -2.64619887e-02\\n  5.99039719e-03 -1.04942648e-02  1.01792337e-02  1.29478229e-02\\n  2.68413145e-02 -1.29303234e-02  2.71946657e-02  5.13919070e-03\\n -8.48229229e-03 -8.86422640e-04 -1.10265119e-02 -2.06755456e-02\\n  1.48166139e-02  3.96679305e-02 -1.95502564e-02 -8.86677578e-03\\n  9.57616212e-05  3.53629771e-03  2.63546426e-02 -3.82198626e-03\\n -1.46506773e-03  7.92781636e-03  6.28304062e-03 -6.66415319e-04\\n -6.61504036e-03 -3.14506795e-03  7.51098676e-04 -1.73241599e-03\\n -1.74137689e-02  6.28012000e-04 -8.83580279e-03 -4.89534065e-03\\n  2.06578174e-03 -2.06539128e-03  8.94969702e-03  1.42189665e-02\\n  2.73209959e-02  2.03652494e-03 -1.90768894e-02  1.82350054e-02\\n  3.98872216e-04  9.10104159e-03  5.31831011e-03  7.68157770e-04\\n -9.02979821e-03 -1.25751421e-02  1.15333302e-02 -2.19645305e-03\\n -1.32938160e-03 -1.72197092e-02  5.24826860e-03 -1.83464610e-03\\n  1.78102050e-02  5.49157197e-03  1.08679812e-02 -4.15315619e-03\\n -9.66266170e-03  6.70350017e-03 -3.32130142e-03 -1.33344729e-03\\n  8.21197126e-03  3.66833899e-03 -3.53694241e-03 -1.60244275e-02\\n -1.70966256e-02 -1.29633779e-02  8.00984539e-03 -8.80398380e-04\\n  6.07498980e-04 -7.47173000e-03  6.48853974e-03  1.51750138e-02\\n  1.19203674e-02  2.35547754e-03  5.20791439e-03  4.02595906e-04\\n -2.90637417e-03 -9.86042526e-03  1.93791967e-02  1.53732104e-02]',\n",
              "  'onenum_value': -0.007180897984653711,\n",
              "  'title': 'aplikasi force close ketika membuka detail fragment'},\n",
              " {'combined': 'error saat implementasi room database dengan content provider saya mengalami error saat implementasi room database dengan content provider room database dapat berjalan sebelumnya namun muncul error saat menggunakan content provider error room database content provider',\n",
              "  'combined_processed': 'error implementasi room database content provider alami error implementasi room database content provider room database jalan muncul error content provider error room database content provider',\n",
              "  'content': 'saya mengalami error saat implementasi room database dengan content provider room database dapat berjalan sebelumnya namun muncul error saat menggunakan content provider',\n",
              "  'keywords': 'error,room,database,content-provider',\n",
              "  'multinum_value': '[ 0.02294005 -0.00620319 -0.01098062 -0.00089346 -0.01412475  0.00586906\\n -0.01528637 -0.00102833  0.00329847  0.01024964  0.01090945  0.00139685\\n -0.00640733  0.00250161 -0.00930754  0.00449419  0.00617207 -0.00378047\\n -0.03059419  0.01492956  0.01323465 -0.00850394  0.00059559  0.00184455\\n  0.00383425 -0.02934454 -0.0072582  -0.01081469  0.00892306 -0.00939345\\n  0.00856499  0.00078162  0.01267433  0.00514533 -0.01963817 -0.00732995\\n  0.01403174  0.00160558 -0.00554515 -0.00572354  0.00148712  0.02549434\\n  0.0041489   0.0116532   0.00042001 -0.0267062   0.00238747  0.01371433\\n -0.02190779 -0.00819851  0.00597508 -0.01204202 -0.0008579  -0.01015845\\n -0.00153899  0.01022494 -0.01606129 -0.0071738   0.00549282  0.00872812\\n  0.00630412 -0.01579937 -0.00330346  0.00492339 -0.02857377  0.01065809\\n -0.00641513 -0.01129956  0.00230555  0.00760687 -0.01547496 -0.00496399\\n  0.00473556  0.0161298  -0.00579718 -0.0080996  -0.00501057  0.00622953\\n -0.00172909  0.00895742 -0.00756003 -0.00501594  0.00704424 -0.00664341\\n -0.00401925  0.00789952 -0.0053294  -0.01403637  0.00191618  0.01179319\\n -0.01277    -0.00155208  0.00090063 -0.00182555 -0.00135054 -0.01310991\\n -0.02489555 -0.00605424  0.00421666  0.0132427   0.01029684  0.00208469\\n  0.00138441 -0.00231583  0.01361301  0.00483743 -0.0106683   0.00631427\\n  0.00526169  0.00630897 -0.00779862 -0.00154497  0.00145135  0.01230644\\n -0.01748023  0.00617319  0.0102391  -0.01148739 -0.01324192 -0.01218243\\n -0.00800794  0.00481893 -0.0046365   0.01124113 -0.00194    -0.00456889\\n -0.00029515  0.00887898]',\n",
              "  'onenum_value': -0.03367717564105988,\n",
              "  'title': 'error saat implementasi room database dengan content provider'},\n",
              " {'combined': 'dark theme tidak aktif secara otomatis bagaimana cara agar saat setting set dark theme akan menggunakan dark theme saat membuka aplikasi kembali dark theme',\n",
              "  'combined_processed': 'dark theme aktif otomatis setting set dark theme dark theme buka aplikasi dark theme',\n",
              "  'content': 'bagaimana cara agar saat setting set dark theme akan menggunakan dark theme saat membuka aplikasi kembali',\n",
              "  'keywords': 'dark-theme',\n",
              "  'multinum_value': '[ 0.00880352  0.04208435  0.02414469 -0.0232718   0.02121452 -0.00310498\\n  0.0271192   0.02467486  0.02024546 -0.00188834  0.00833173  0.05970359\\n  0.07646449  0.00689326  0.01285756  0.01544882  0.01790659 -0.03440396\\n -0.02421236 -0.00458666 -0.00577892 -0.01920068 -0.00931828 -0.00155985\\n -0.01508415  0.02383582  0.02424236  0.02726552  0.00323579 -0.00302029\\n -0.0158296  -0.02419325 -0.07181642  0.00560184 -0.0066994   0.00129459\\n -0.00019793 -0.00622521 -0.02408163 -0.02066756 -0.02533989 -0.01918251\\n -0.04833667  0.00835155  0.05962377 -0.00589385  0.03124033 -0.03236125\\n  0.01299472 -0.01918114  0.024251    0.02167567  0.03511425 -0.02067831\\n  0.03120918  0.00532875 -0.00814619  0.00261744 -0.0178934  -0.03397873\\n  0.02226193  0.04932141 -0.03822566 -0.01379467 -0.00833804 -0.01465576\\n -0.01095197 -0.00401504  0.00832589 -0.00057918  0.01568667 -0.00145908\\n -0.00519908  0.00693065  0.00018683 -0.0051737  -0.0124971  -0.00261662\\n  0.00401629 -0.03175799  0.00420763  0.00524854  0.01143931 -0.00645143\\n -0.01190867  0.00159205 -0.00303989  0.00514414 -0.01306     0.00443223\\n  0.02168278  0.00397109  0.00946561 -0.00282526 -0.00434278  0.00747553\\n  0.00721742  0.01428246 -0.00510387 -0.01116297 -0.02045146  0.00285977\\n  0.00480422  0.00609275  0.00517274  0.01567381  0.00544973  0.00368294\\n  0.00271529 -0.00609572 -0.00525105 -0.00816016  0.01986742  0.0139405\\n  0.00177612  0.0032771  -0.00890311  0.00929625  0.00187527 -0.00374915\\n -0.00271873 -0.00018502  0.00699129 -0.00644341 -0.00664956  0.00719772\\n  0.00116223  0.00414081]',\n",
              "  'onenum_value': 0.01759197749197483,\n",
              "  'title': 'dark theme tidak aktif secara otomatis'},\n",
              " {'combined': 'room database error nullpointerexception saya mendapatkan exception ini saat menggunakan room database java lang nullpointerexception attempt to get length of null array error room database null nullpointerexception',\n",
              "  'combined_processed': 'room database error nullpointerexception exception room database java lang nullpointerexception attempt get length null array error room database null nullpointerexception',\n",
              "  'content': 'saya mendapatkan exception ini saat menggunakan room database java lang nullpointerexception attempt to get length of null array',\n",
              "  'keywords': 'error,room,database,null,nullpointerexception',\n",
              "  'multinum_value': '[ 7.38101732e-03  2.76014190e-02  1.74374543e-02 -1.41912922e-02\\n  2.11060867e-02  3.46544036e-03  1.91039797e-02  8.09962582e-03\\n  8.00125208e-03 -1.40899699e-03 -3.07774841e-04  3.80160809e-02\\n  5.55011630e-02  1.12727862e-02  5.89064974e-03  1.47012584e-02\\n  1.25404252e-02 -2.49245390e-02 -1.94460414e-02  7.55060557e-03\\n -8.56177881e-03 -7.95120373e-03 -3.29981069e-03  2.70145526e-03\\n -7.21218204e-03  1.92385521e-02  1.06646251e-02  1.91032756e-02\\n  8.54475016e-04  6.17682561e-03 -1.16086565e-02 -1.80901680e-02\\n -4.75264713e-02  6.57211430e-03 -4.10893466e-03 -6.98514516e-03\\n  6.85709296e-03  1.61490415e-03 -2.01560091e-02 -1.52247669e-02\\n -1.64075680e-02 -7.28329970e-03 -3.78389135e-02 -7.23964418e-04\\n  4.79733720e-02  1.27591449e-03  2.30576769e-02 -2.02708188e-02\\n  4.25224891e-03 -7.88449403e-03  1.28717003e-02  1.52587621e-02\\n  2.82147340e-02 -1.24509837e-02  1.90479308e-02  4.59699472e-03\\n -3.35771963e-03 -4.33998927e-03 -5.34575293e-03 -2.31879950e-02\\n  1.28222117e-02  3.46796103e-02 -2.12100632e-02 -6.06127782e-03\\n -3.21218148e-02  6.07157778e-03  8.48407857e-03 -1.27875721e-02\\n  3.85690504e-03  1.32191377e-02 -1.91792622e-02  1.92663597e-03\\n -3.38697783e-03  1.06004421e-02 -1.52179524e-02  2.84480536e-03\\n  8.39804392e-03  6.85413228e-03 -8.79250560e-03  8.47948994e-03\\n  1.28972502e-02 -5.90194482e-04  1.58167724e-02 -1.82291288e-02\\n  5.00947330e-03  7.18919886e-03 -8.61289445e-03 -1.05172498e-02\\n -3.74935591e-03  3.13452608e-03 -9.22787655e-03 -1.02214264e-02\\n -1.35408612e-02 -7.28114159e-04 -1.13272422e-03 -1.20939612e-02\\n -1.78865306e-02 -1.00544682e-02  1.87919557e-03 -8.24428716e-05\\n -3.45021696e-03  2.07377295e-03  1.19092886e-03 -1.40176723e-02\\n  5.88587439e-03  1.22097682e-03 -1.74812917e-02  3.17785121e-03\\n  2.64188298e-03  2.67491187e-03 -8.87617655e-03  1.48462271e-02\\n -2.35473607e-02  1.51881129e-02 -4.32164874e-03  1.10636801e-02\\n  1.12314587e-02  5.06439665e-03 -1.29298400e-02 -9.29355063e-03\\n  7.59847742e-03 -8.91427789e-03 -3.50549095e-03  9.92058311e-03\\n -2.61092396e-03 -1.45711852e-02  4.63141216e-04  1.17286574e-03]',\n",
              "  'onenum_value': -0.006990722380578518,\n",
              "  'title': 'room database error nullpointerexception'}]"
            ]
          },
          "metadata": {},
          "execution_count": 4
        }
      ]
    },
    {
      "cell_type": "code",
      "source": [
        "tfidf = TfidfVectorizer()\n",
        "tfidf_matrix = tfidf.fit_transform(df['combined_processed'])\n",
        "tfidf_matrix.shape"
      ],
      "metadata": {
        "id": "vk9Kg5gyNP77",
        "colab": {
          "base_uri": "https://localhost:8080/"
        },
        "outputId": "3d296c20-1c62-4cae-aaa7-7113aa535a2e"
      },
      "execution_count": 5,
      "outputs": [
        {
          "output_type": "execute_result",
          "data": {
            "text/plain": [
              "(15, 81)"
            ]
          },
          "metadata": {},
          "execution_count": 5
        }
      ]
    },
    {
      "cell_type": "code",
      "source": [
        "cosine_sim = linear_kernel(tfidf_matrix, tfidf_matrix)\n",
        "cosine_sim"
      ],
      "metadata": {
        "colab": {
          "base_uri": "https://localhost:8080/"
        },
        "id": "jCkaRxiLU0y5",
        "outputId": "51794d51-cffb-48f1-d226-622861965d74"
      },
      "execution_count": 6,
      "outputs": [
        {
          "output_type": "execute_result",
          "data": {
            "text/plain": [
              "array([[1.        , 0.02353616, 0.15192858, 0.        , 0.22105632,\n",
              "        0.57342976, 0.01645691, 0.0110249 , 0.04849889, 0.36597704,\n",
              "        0.        , 0.18919502, 0.0431237 , 0.        , 0.03257435],\n",
              "       [0.02353616, 1.        , 0.        , 0.        , 0.        ,\n",
              "        0.06116161, 0.44510214, 0.46857032, 0.18068813, 0.04509022,\n",
              "        0.        , 0.46537524, 0.        , 0.01998738, 0.        ],\n",
              "       [0.15192858, 0.        , 1.        , 0.47137438, 0.22764705,\n",
              "        0.09256814, 0.232362  , 0.        , 0.03195443, 0.09776162,\n",
              "        0.        , 0.1860535 , 0.07935126, 0.58439959, 0.3034481 ],\n",
              "       [0.        , 0.        , 0.47137438, 1.        , 0.        ,\n",
              "        0.10472223, 0.        , 0.3013564 , 0.02911125, 0.        ,\n",
              "        0.31765577, 0.        , 0.04551531, 0.63357746, 0.        ],\n",
              "       [0.22105632, 0.        , 0.22764705, 0.        , 1.        ,\n",
              "        0.19148066, 0.        , 0.        , 0.        , 0.        ,\n",
              "        0.01729272, 0.26077087, 0.        , 0.        , 0.        ],\n",
              "       [0.57342976, 0.06116161, 0.09256814, 0.10472223, 0.19148066,\n",
              "        1.        , 0.        , 0.14917775, 0.30458495, 0.17377613,\n",
              "        0.14725541, 0.10603728, 0.        , 0.        , 0.        ],\n",
              "       [0.01645691, 0.44510214, 0.232362  , 0.        , 0.        ,\n",
              "        0.        , 1.        , 0.        , 0.01166979, 0.02364592,\n",
              "        0.        , 0.52041288, 0.02432756, 0.03758036, 0.26923452],\n",
              "       [0.0110249 , 0.46857032, 0.        , 0.3013564 , 0.        ,\n",
              "        0.14917775, 0.        , 1.        , 0.08463865, 0.02112134,\n",
              "        0.38993998, 0.        , 0.06984671, 0.        , 0.        ],\n",
              "       [0.04849889, 0.18068813, 0.03195443, 0.02911125, 0.        ,\n",
              "        0.30458495, 0.01166979, 0.08463865, 1.        , 0.08300585,\n",
              "        0.        , 0.01220132, 0.03057954, 0.        , 0.02309887],\n",
              "       [0.36597704, 0.04509022, 0.09776162, 0.        , 0.        ,\n",
              "        0.17377613, 0.02364592, 0.02112134, 0.08300585, 1.        ,\n",
              "        0.        , 0.02472293, 0.08565692, 0.        , 0.04680409],\n",
              "       [0.        , 0.        , 0.        , 0.31765577, 0.01729272,\n",
              "        0.14725541, 0.        , 0.38993998, 0.        , 0.        ,\n",
              "        1.        , 0.        , 0.        , 0.        , 0.        ],\n",
              "       [0.18919502, 0.46537524, 0.1860535 , 0.        , 0.26077087,\n",
              "        0.10603728, 0.52041288, 0.        , 0.01220132, 0.02472293,\n",
              "        0.        , 1.        , 0.02543561, 0.09933277, 0.05543874],\n",
              "       [0.0431237 , 0.        , 0.07935126, 0.04551531, 0.        ,\n",
              "        0.        , 0.02432756, 0.06984671, 0.03057954, 0.08565692,\n",
              "        0.        , 0.02543561, 1.        , 0.        , 0.46435189],\n",
              "       [0.        , 0.01998738, 0.58439959, 0.63357746, 0.        ,\n",
              "        0.        , 0.03758036, 0.        , 0.        , 0.        ,\n",
              "        0.        , 0.09933277, 0.        , 1.        , 0.        ],\n",
              "       [0.03257435, 0.        , 0.3034481 , 0.        , 0.        ,\n",
              "        0.        , 0.26923452, 0.        , 0.02309887, 0.04680409,\n",
              "        0.        , 0.05543874, 0.46435189, 0.        , 1.        ]])"
            ]
          },
          "metadata": {},
          "execution_count": 6
        }
      ]
    },
    {
      "cell_type": "code",
      "source": [
        "indices = pd.Series(df['combined_processed'].index, index=df['title']).drop_duplicates()"
      ],
      "metadata": {
        "id": "8rWwJUtRS2fv"
      },
      "execution_count": 7,
      "outputs": []
    },
    {
      "cell_type": "code",
      "source": [
        "def search(query, cosine_sim=cosine_sim):\n",
        "\n",
        "  preprocessed_query = preprocessing(query)\n",
        "\n",
        "  #Regular expression to get the index of the document in dataset that matches the title\n",
        "  for curr_idx, data in enumerate(dummy_list_of_dict):\n",
        "      if re.search(preprocessed_query, data['combined_processed']):\n",
        "          idx = curr_idx\n",
        "          break\n",
        "\n",
        "  #Get the pairwise similarity scores of all document in the dataset with the title\n",
        "  sim_scores = list(enumerate(cosine_sim[idx]))\n",
        "\n",
        "  #Sort the document based on the similarity score\n",
        "  sim_scores = sorted(sim_scores, key=lambda x: x[1], reverse=True)\n",
        "\n",
        "  #Get the scores of the 10 most similar documents\n",
        "  above_threshold = []\n",
        "  for idx, score in sim_scores:\n",
        "    if score >= 0.1:\n",
        "      above_threshold.append((idx, score))\n",
        "\n",
        "  #Get the indices of the documents\n",
        "  doc_indices = [i[0] for i in above_threshold]\n",
        "\n",
        "  #Return the title of the document based on the indices\n",
        "  return df['title'].iloc[doc_indices]"
      ],
      "metadata": {
        "id": "z5GbfGH5Vb5a"
      },
      "execution_count": 8,
      "outputs": []
    },
    {
      "cell_type": "code",
      "source": [
        "search('revisi submission')"
      ],
      "metadata": {
        "colab": {
          "base_uri": "https://localhost:8080/"
        },
        "id": "CxV7M-XPV9Lm",
        "outputId": "66cf478b-c91a-4a2a-e45e-48297274b5f6"
      },
      "execution_count": 9,
      "outputs": [
        {
          "output_type": "execute_result",
          "data": {
            "text/plain": [
              "10               revisi submission dianggap plagiarisme\n",
              "7     submission ditolak karena implementasi parcela...\n",
              "3     dark theme tidak jalan sehingga submission dit...\n",
              "5                        penggunaan api pada submission\n",
              "Name: title, dtype: object"
            ]
          },
          "metadata": {},
          "execution_count": 9
        }
      ]
    }
  ],
  "metadata": {
    "colab": {
      "name": "TF-IDF",
      "provenance": [],
      "collapsed_sections": []
    },
    "kernelspec": {
      "display_name": "Python 3",
      "name": "python3"
    },
    "language_info": {
      "name": "python"
    },
    "accelerator": "GPU"
  },
  "nbformat": 4,
  "nbformat_minor": 0
}